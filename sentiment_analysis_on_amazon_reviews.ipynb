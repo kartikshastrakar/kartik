{
  "metadata": {
    "kernelspec": {
      "language": "python",
      "display_name": "Python 3",
      "name": "python3"
    },
    "language_info": {
      "name": "python",
      "version": "3.7.12",
      "mimetype": "text/x-python",
      "codemirror_mode": {
        "name": "ipython",
        "version": 3
      },
      "pygments_lexer": "ipython3",
      "nbconvert_exporter": "python",
      "file_extension": ".py"
    },
    "colab": {
      "name": "sentiment-analysis-on-amazon-reviews.ipynb",
      "provenance": [],
      "collapsed_sections": [],
      "include_colab_link": true
    }
  },
  "nbformat_minor": 0,
  "nbformat": 4,
  "cells": [
    {
      "cell_type": "markdown",
      "metadata": {
        "id": "view-in-github",
        "colab_type": "text"
      },
      "source": [
        "<a href=\"https://colab.research.google.com/github/kartikshastrakar/kartik/blob/main/sentiment_analysis_on_amazon_reviews.ipynb\" target=\"_parent\"><img src=\"https://colab.research.google.com/assets/colab-badge.svg\" alt=\"Open In Colab\"/></a>"
      ]
    },
    {
      "cell_type": "code",
      "source": [
        "import pandas as pd\n",
        "import numpy as np\n",
        "import matplotlib.pyplot as plt\n",
        "from tensorflow.python.keras import models, layers, optimizers\n",
        "import tensorflow\n",
        "from tensorflow.keras.preprocessing.text import Tokenizer, text_to_word_sequence\n",
        "from tensorflow.keras.preprocessing.sequence import pad_sequences\n",
        "import bz2\n",
        "from sklearn.metrics import f1_score, roc_auc_score, accuracy_score\n",
        "import re\n",
        "\n",
        "%matplotlib inline"
      ],
      "metadata": {
        "execution": {
          "iopub.status.busy": "2022-02-05T08:03:46.203369Z",
          "iopub.status.idle": "2022-02-05T08:03:46.204122Z",
          "shell.execute_reply.started": "2022-02-05T08:03:46.203944Z",
          "shell.execute_reply": "2022-02-05T08:03:46.203964Z"
        },
        "trusted": true,
        "id": "znxfOn5Z_Kbp"
      },
      "execution_count": null,
      "outputs": []
    },
    {
      "cell_type": "markdown",
      "source": [
        "#Creating a function to load the text and labels from train and test set"
      ],
      "metadata": {
        "id": "7Altgt7P_Kbz"
      }
    },
    {
      "cell_type": "code",
      "source": [
        "def get_labels_and_texts(file):\n",
        "    labels = []\n",
        "    texts = []\n",
        "    for line in bz2.BZ2File(file):\n",
        "        x = line.decode(\"utf-8\")\n",
        "        labels.append(int(x[9]) - 1)\n",
        "        texts.append(x[10:].strip())\n",
        "    return np.array(labels), texts\n",
        "train_labels, train_texts = get_labels_and_texts('../input/amazonreviews/train.ft.txt.bz2')\n",
        "test_labels, test_texts = get_labels_and_texts('../input/amazonreviews/test.ft.txt.bz2')"
      ],
      "metadata": {
        "execution": {
          "iopub.status.busy": "2022-02-05T08:03:46.204930Z",
          "iopub.status.idle": "2022-02-05T08:03:46.205613Z",
          "shell.execute_reply.started": "2022-02-05T08:03:46.205399Z",
          "shell.execute_reply": "2022-02-05T08:03:46.205419Z"
        },
        "trusted": true,
        "id": "0L_60QhI_Kb3"
      },
      "execution_count": null,
      "outputs": []
    },
    {
      "cell_type": "code",
      "source": [
        "train_labels[0]"
      ],
      "metadata": {
        "execution": {
          "iopub.status.busy": "2022-02-05T08:03:46.429924Z",
          "iopub.execute_input": "2022-02-05T08:03:46.430170Z",
          "iopub.status.idle": "2022-02-05T08:03:46.435341Z",
          "shell.execute_reply.started": "2022-02-05T08:03:46.430144Z",
          "shell.execute_reply": "2022-02-05T08:03:46.434695Z"
        },
        "trusted": true,
        "id": "kX-OQ5uQ_Kb4",
        "outputId": "0083f170-80db-41dc-de26-501c1d86c89f"
      },
      "execution_count": null,
      "outputs": [
        {
          "execution_count": 15,
          "output_type": "execute_result",
          "data": {
            "text/plain": "1"
          },
          "metadata": {}
        }
      ]
    },
    {
      "cell_type": "code",
      "source": [
        "train_texts[0]"
      ],
      "metadata": {
        "execution": {
          "iopub.status.busy": "2022-02-05T08:03:46.437741Z",
          "iopub.execute_input": "2022-02-05T08:03:46.438853Z",
          "iopub.status.idle": "2022-02-05T08:03:46.448042Z",
          "shell.execute_reply.started": "2022-02-05T08:03:46.438805Z",
          "shell.execute_reply": "2022-02-05T08:03:46.447265Z"
        },
        "trusted": true,
        "id": "S03QUGh0_Kb6",
        "outputId": "218e6c7a-9aef-4cb3-f94e-a3cda28a5a80"
      },
      "execution_count": null,
      "outputs": [
        {
          "execution_count": 16,
          "output_type": "execute_result",
          "data": {
            "text/plain": "'stuning even for the non gamer  this sound track was beautiful  it paints the senery in your mind so well i would recomend it even to people who hate vid  game music  i have played the game chrono cross but out of all of the games i have ever played it has the best music  it backs away from crude keyboarding and takes a fresher step with grate guitars and soulful orchestras  it would impress anyone who cares to listen    '"
          },
          "metadata": {}
        }
      ]
    },
    {
      "cell_type": "code",
      "source": [
        "train_labels=train_labels[0:500]"
      ],
      "metadata": {
        "execution": {
          "iopub.status.busy": "2022-02-05T08:03:46.449225Z",
          "iopub.execute_input": "2022-02-05T08:03:46.449730Z",
          "iopub.status.idle": "2022-02-05T08:03:46.458580Z",
          "shell.execute_reply.started": "2022-02-05T08:03:46.449700Z",
          "shell.execute_reply": "2022-02-05T08:03:46.457660Z"
        },
        "trusted": true,
        "id": "9gkrB-87_Kb7"
      },
      "execution_count": null,
      "outputs": []
    },
    {
      "cell_type": "code",
      "source": [
        "train_texts=train_texts[0:500]"
      ],
      "metadata": {
        "execution": {
          "iopub.status.busy": "2022-02-05T08:03:46.459441Z",
          "iopub.execute_input": "2022-02-05T08:03:46.459945Z",
          "iopub.status.idle": "2022-02-05T08:03:46.469546Z",
          "shell.execute_reply.started": "2022-02-05T08:03:46.459916Z",
          "shell.execute_reply": "2022-02-05T08:03:46.468975Z"
        },
        "trusted": true,
        "id": "t2ls6asH_Kb7"
      },
      "execution_count": null,
      "outputs": []
    },
    {
      "cell_type": "markdown",
      "source": [
        "#text pre-processing"
      ],
      "metadata": {
        "id": "PozPx0Gb_Kb8"
      }
    },
    {
      "cell_type": "code",
      "source": [
        "import re\n",
        "NON_ALPHANUM = re.compile(r'[\\W]')\n",
        "NON_ASCII = re.compile(r'[^a-z0-1\\s]')\n",
        "def normalize_texts(texts):\n",
        "    normalized_texts = []\n",
        "    for text in texts:\n",
        "        lower = text.lower()\n",
        "        no_punctuation = NON_ALPHANUM.sub(r' ', lower)\n",
        "        no_non_ascii = NON_ASCII.sub(r'', no_punctuation)\n",
        "        normalized_texts.append(no_non_ascii)\n",
        "    return normalized_texts\n",
        "        \n",
        "train_texts = normalize_texts(train_texts)\n",
        "test_texts = normalize_texts(test_texts)"
      ],
      "metadata": {
        "execution": {
          "iopub.status.busy": "2022-02-05T08:03:46.471039Z",
          "iopub.execute_input": "2022-02-05T08:03:46.471331Z",
          "iopub.status.idle": "2022-02-05T08:04:06.991874Z",
          "shell.execute_reply.started": "2022-02-05T08:03:46.471305Z",
          "shell.execute_reply": "2022-02-05T08:04:06.990988Z"
        },
        "trusted": true,
        "id": "_wSz2OG0_Kb-"
      },
      "execution_count": null,
      "outputs": []
    },
    {
      "cell_type": "code",
      "source": [
        "train_texts[0]"
      ],
      "metadata": {
        "execution": {
          "iopub.status.busy": "2022-02-05T08:04:06.993002Z",
          "iopub.execute_input": "2022-02-05T08:04:06.993233Z",
          "iopub.status.idle": "2022-02-05T08:04:06.999080Z",
          "shell.execute_reply.started": "2022-02-05T08:04:06.993203Z",
          "shell.execute_reply": "2022-02-05T08:04:06.998199Z"
        },
        "trusted": true,
        "id": "bDdyqPjS_Kb_",
        "outputId": "6b7b3af3-2a28-4a7c-b2c1-f6d95822979d"
      },
      "execution_count": null,
      "outputs": [
        {
          "execution_count": 20,
          "output_type": "execute_result",
          "data": {
            "text/plain": "'stuning even for the non gamer  this sound track was beautiful  it paints the senery in your mind so well i would recomend it even to people who hate vid  game music  i have played the game chrono cross but out of all of the games i have ever played it has the best music  it backs away from crude keyboarding and takes a fresher step with grate guitars and soulful orchestras  it would impress anyone who cares to listen    '"
          },
          "metadata": {}
        }
      ]
    },
    {
      "cell_type": "markdown",
      "source": [
        "#countvectorizer"
      ],
      "metadata": {
        "id": "BavJP2EV_KcA"
      }
    },
    {
      "cell_type": "code",
      "source": [
        "from sklearn.feature_extraction.text import CountVectorizer\n",
        "\n",
        "cv = CountVectorizer(binary=True)\n",
        "cv.fit(train_texts)\n",
        "X = cv.transform(train_texts)\n",
        "X_test = cv.transform(test_texts)"
      ],
      "metadata": {
        "execution": {
          "iopub.status.busy": "2022-02-05T08:04:07.000065Z",
          "iopub.execute_input": "2022-02-05T08:04:07.000297Z",
          "iopub.status.idle": "2022-02-05T08:04:40.019955Z",
          "shell.execute_reply.started": "2022-02-05T08:04:07.000265Z",
          "shell.execute_reply": "2022-02-05T08:04:40.019157Z"
        },
        "trusted": true,
        "id": "l46eCXp6_KcA"
      },
      "execution_count": null,
      "outputs": []
    },
    {
      "cell_type": "code",
      "source": [
        "X_test"
      ],
      "metadata": {
        "execution": {
          "iopub.status.busy": "2022-02-05T08:04:40.020992Z",
          "iopub.execute_input": "2022-02-05T08:04:40.021880Z",
          "iopub.status.idle": "2022-02-05T08:04:40.027941Z",
          "shell.execute_reply.started": "2022-02-05T08:04:40.021813Z",
          "shell.execute_reply": "2022-02-05T08:04:40.027106Z"
        },
        "trusted": true,
        "id": "ZqYs7qG3_KcB",
        "outputId": "f7ec4f57-792d-4b18-abc2-55d6423999e7"
      },
      "execution_count": null,
      "outputs": [
        {
          "execution_count": 22,
          "output_type": "execute_result",
          "data": {
            "text/plain": "<400000x5778 sparse matrix of type '<class 'numpy.int64'>'\n\twith 18647020 stored elements in Compressed Sparse Row format>"
          },
          "metadata": {}
        }
      ]
    },
    {
      "cell_type": "code",
      "source": [
        "from sklearn.linear_model import LogisticRegression\n",
        "from sklearn.metrics import accuracy_score\n",
        "from sklearn.model_selection import train_test_split\n",
        "\n",
        "\n",
        "X_train, X_val, y_train, y_val = train_test_split(\n",
        "    X, train_labels, train_size = 0.75\n",
        ")\n",
        "\n",
        "for c in [0.01, 0.05, 0.25, 0.5, 1]:\n",
        "    \n",
        "    lr = LogisticRegression(C=c)\n",
        "    lr.fit(X_train, y_train)\n",
        "    print (\"Accuracy for C=%s: %s\" \n",
        "           % (c, accuracy_score(y_val, lr.predict(X_val))))"
      ],
      "metadata": {
        "execution": {
          "iopub.status.busy": "2022-02-05T08:04:40.029150Z",
          "iopub.execute_input": "2022-02-05T08:04:40.029368Z",
          "iopub.status.idle": "2022-02-05T08:04:40.364666Z",
          "shell.execute_reply.started": "2022-02-05T08:04:40.029337Z",
          "shell.execute_reply": "2022-02-05T08:04:40.363697Z"
        },
        "trusted": true,
        "id": "FXbfwmbS_KcC",
        "outputId": "c7b04924-ba02-42f5-d8bd-b46798fcf743"
      },
      "execution_count": null,
      "outputs": [
        {
          "name": "stdout",
          "text": "Accuracy for C=0.01: 0.728\nAccuracy for C=0.05: 0.768\nAccuracy for C=0.25: 0.768\nAccuracy for C=0.5: 0.768\nAccuracy for C=1: 0.752\n",
          "output_type": "stream"
        }
      ]
    },
    {
      "cell_type": "code",
      "source": [
        "lr.predict(X_test[29])"
      ],
      "metadata": {
        "execution": {
          "iopub.status.busy": "2022-02-05T08:04:40.365716Z",
          "iopub.execute_input": "2022-02-05T08:04:40.365937Z",
          "iopub.status.idle": "2022-02-05T08:04:40.372933Z",
          "shell.execute_reply.started": "2022-02-05T08:04:40.365909Z",
          "shell.execute_reply": "2022-02-05T08:04:40.372019Z"
        },
        "trusted": true,
        "id": "9-_Ua9VJ_KcD",
        "outputId": "6dae09a3-16bc-4fda-a909-f3d9267fac8c"
      },
      "execution_count": null,
      "outputs": [
        {
          "execution_count": 24,
          "output_type": "execute_result",
          "data": {
            "text/plain": "array([0])"
          },
          "metadata": {}
        }
      ]
    },
    {
      "cell_type": "code",
      "source": [
        "test_labels[29]"
      ],
      "metadata": {
        "execution": {
          "iopub.status.busy": "2022-02-05T08:04:40.375274Z",
          "iopub.execute_input": "2022-02-05T08:04:40.375548Z",
          "iopub.status.idle": "2022-02-05T08:04:40.387556Z",
          "shell.execute_reply.started": "2022-02-05T08:04:40.375494Z",
          "shell.execute_reply": "2022-02-05T08:04:40.386614Z"
        },
        "trusted": true,
        "id": "wLOUv8qe_KcD",
        "outputId": "e6317b93-44d6-4445-e18b-c19600b89360"
      },
      "execution_count": null,
      "outputs": [
        {
          "execution_count": 25,
          "output_type": "execute_result",
          "data": {
            "text/plain": "0"
          },
          "metadata": {}
        }
      ]
    },
    {
      "cell_type": "code",
      "source": [
        "test_texts[29]"
      ],
      "metadata": {
        "execution": {
          "iopub.status.busy": "2022-02-05T08:04:40.388406Z",
          "iopub.execute_input": "2022-02-05T08:04:40.388656Z",
          "iopub.status.idle": "2022-02-05T08:04:40.401701Z",
          "shell.execute_reply.started": "2022-02-05T08:04:40.388624Z",
          "shell.execute_reply": "2022-02-05T08:04:40.400805Z"
        },
        "trusted": true,
        "id": "iiWuxEKy_KcE",
        "outputId": "41486e75-8786-4edd-a416-021d3f8f802e"
      },
      "execution_count": null,
      "outputs": [
        {
          "execution_count": 26,
          "output_type": "execute_result",
          "data": {
            "text/plain": "'three days of use and it broke  very disappointed in this product  it worked perfectly for exactly three days and could not be resuscitated  it was very inexpensive so i did not want to pay half again the price to ship it back for an exchange  so the company would do nothing when they sent me an inquiry as to product satisfaction '"
          },
          "metadata": {}
        }
      ]
    }
  ]
}