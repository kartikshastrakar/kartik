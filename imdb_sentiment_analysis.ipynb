{
  "metadata": {
    "kernelspec": {
      "language": "python",
      "display_name": "Python 3",
      "name": "python3"
    },
    "language_info": {
      "name": "python",
      "version": "3.7.12",
      "mimetype": "text/x-python",
      "codemirror_mode": {
        "name": "ipython",
        "version": 3
      },
      "pygments_lexer": "ipython3",
      "nbconvert_exporter": "python",
      "file_extension": ".py"
    },
    "colab": {
      "name": "imdb-sentiment-analysis.ipynb",
      "provenance": [],
      "collapsed_sections": [],
      "include_colab_link": true
    }
  },
  "nbformat_minor": 0,
  "nbformat": 4,
  "cells": [
    {
      "cell_type": "markdown",
      "metadata": {
        "id": "view-in-github",
        "colab_type": "text"
      },
      "source": [
        "<a href=\"https://colab.research.google.com/github/kartikshastrakar/kartik/blob/main/imdb_sentiment_analysis.ipynb\" target=\"_parent\"><img src=\"https://colab.research.google.com/assets/colab-badge.svg\" alt=\"Open In Colab\"/></a>"
      ]
    },
    {
      "cell_type": "code",
      "source": [
        "import numpy as np\n",
        "import pandas as pd\n",
        "import seaborn as sns\n",
        "import matplotlib.pyplot as plt\n",
        "import nltk\n",
        "from sklearn.feature_extraction.text import CountVectorizer\n",
        "from sklearn.feature_extraction.text import TfidfVectorizer\n",
        "from sklearn.preprocessing import LabelBinarizer\n",
        "from nltk.corpus import stopwords\n",
        "from nltk.stem.porter import PorterStemmer\n",
        "from wordcloud import WordCloud,STOPWORDS\n",
        "from nltk.stem import WordNetLemmatizer\n",
        "from nltk.tokenize import word_tokenize,sent_tokenize"
      ],
      "metadata": {
        "id": "Jw926llo1Uxx",
        "execution": {
          "iopub.status.busy": "2022-01-28T14:35:07.007511Z",
          "iopub.execute_input": "2022-01-28T14:35:07.007933Z",
          "iopub.status.idle": "2022-01-28T14:35:08.790286Z",
          "shell.execute_reply.started": "2022-01-28T14:35:07.007812Z",
          "shell.execute_reply": "2022-01-28T14:35:08.789115Z"
        },
        "trusted": true
      },
      "execution_count": null,
      "outputs": []
    },
    {
      "cell_type": "code",
      "source": [
        "data=pd.read_csv(\"../input/imdb-dataset-of-50k-movie-reviews/IMDB Dataset.csv\")"
      ],
      "metadata": {
        "id": "DQgpaxkFusT8",
        "execution": {
          "iopub.status.busy": "2022-01-28T14:35:08.792003Z",
          "iopub.execute_input": "2022-01-28T14:35:08.792352Z",
          "iopub.status.idle": "2022-01-28T14:35:10.419921Z",
          "shell.execute_reply.started": "2022-01-28T14:35:08.792315Z",
          "shell.execute_reply": "2022-01-28T14:35:10.419237Z"
        },
        "trusted": true
      },
      "execution_count": null,
      "outputs": []
    },
    {
      "cell_type": "code",
      "source": [
        "data.head()"
      ],
      "metadata": {
        "id": "FhIQ70atvPAi",
        "outputId": "9872da7f-8b3a-410f-87c3-489005c9e1d8",
        "execution": {
          "iopub.status.busy": "2022-01-28T14:35:10.421061Z",
          "iopub.execute_input": "2022-01-28T14:35:10.421410Z",
          "iopub.status.idle": "2022-01-28T14:35:10.438399Z",
          "shell.execute_reply.started": "2022-01-28T14:35:10.421382Z",
          "shell.execute_reply": "2022-01-28T14:35:10.437274Z"
        },
        "trusted": true
      },
      "execution_count": null,
      "outputs": [
        {
          "execution_count": 3,
          "output_type": "execute_result",
          "data": {
            "text/plain": "                                              review sentiment\n0  One of the other reviewers has mentioned that ...  positive\n1  A wonderful little production. <br /><br />The...  positive\n2  I thought this was a wonderful way to spend ti...  positive\n3  Basically there's a family where a little boy ...  negative\n4  Petter Mattei's \"Love in the Time of Money\" is...  positive",
            "text/html": "<div>\n<style scoped>\n    .dataframe tbody tr th:only-of-type {\n        vertical-align: middle;\n    }\n\n    .dataframe tbody tr th {\n        vertical-align: top;\n    }\n\n    .dataframe thead th {\n        text-align: right;\n    }\n</style>\n<table border=\"1\" class=\"dataframe\">\n  <thead>\n    <tr style=\"text-align: right;\">\n      <th></th>\n      <th>review</th>\n      <th>sentiment</th>\n    </tr>\n  </thead>\n  <tbody>\n    <tr>\n      <th>0</th>\n      <td>One of the other reviewers has mentioned that ...</td>\n      <td>positive</td>\n    </tr>\n    <tr>\n      <th>1</th>\n      <td>A wonderful little production. &lt;br /&gt;&lt;br /&gt;The...</td>\n      <td>positive</td>\n    </tr>\n    <tr>\n      <th>2</th>\n      <td>I thought this was a wonderful way to spend ti...</td>\n      <td>positive</td>\n    </tr>\n    <tr>\n      <th>3</th>\n      <td>Basically there's a family where a little boy ...</td>\n      <td>negative</td>\n    </tr>\n    <tr>\n      <th>4</th>\n      <td>Petter Mattei's \"Love in the Time of Money\" is...</td>\n      <td>positive</td>\n    </tr>\n  </tbody>\n</table>\n</div>"
          },
          "metadata": {}
        }
      ]
    },
    {
      "cell_type": "code",
      "source": [
        "data.columns"
      ],
      "metadata": {
        "id": "S2Y9ouHoxHUz",
        "outputId": "06990c3c-78a3-4110-ff67-dc9ad645100c",
        "execution": {
          "iopub.status.busy": "2022-01-28T14:35:10.440588Z",
          "iopub.execute_input": "2022-01-28T14:35:10.440808Z",
          "iopub.status.idle": "2022-01-28T14:35:10.447169Z",
          "shell.execute_reply.started": "2022-01-28T14:35:10.440783Z",
          "shell.execute_reply": "2022-01-28T14:35:10.446257Z"
        },
        "trusted": true
      },
      "execution_count": null,
      "outputs": [
        {
          "execution_count": 4,
          "output_type": "execute_result",
          "data": {
            "text/plain": "Index(['review', 'sentiment'], dtype='object')"
          },
          "metadata": {}
        }
      ]
    },
    {
      "cell_type": "code",
      "source": [
        "data.isnull().any()"
      ],
      "metadata": {
        "id": "6b1cyXSXzbuO",
        "outputId": "030ce6ef-3b26-4412-f50d-0876101f3f9f",
        "execution": {
          "iopub.status.busy": "2022-01-28T14:35:10.448836Z",
          "iopub.execute_input": "2022-01-28T14:35:10.449213Z",
          "iopub.status.idle": "2022-01-28T14:35:10.472341Z",
          "shell.execute_reply.started": "2022-01-28T14:35:10.449150Z",
          "shell.execute_reply": "2022-01-28T14:35:10.471114Z"
        },
        "trusted": true
      },
      "execution_count": null,
      "outputs": [
        {
          "execution_count": 5,
          "output_type": "execute_result",
          "data": {
            "text/plain": "review       False\nsentiment    False\ndtype: bool"
          },
          "metadata": {}
        }
      ]
    },
    {
      "cell_type": "code",
      "source": [
        "data.isnull().sum()"
      ],
      "metadata": {
        "id": "LGAG2enjzdXe",
        "outputId": "658fbf45-cb47-4eb9-853d-9983a113390a",
        "execution": {
          "iopub.status.busy": "2022-01-28T14:35:10.473893Z",
          "iopub.execute_input": "2022-01-28T14:35:10.474257Z",
          "iopub.status.idle": "2022-01-28T14:35:10.494560Z",
          "shell.execute_reply.started": "2022-01-28T14:35:10.474211Z",
          "shell.execute_reply": "2022-01-28T14:35:10.493514Z"
        },
        "trusted": true
      },
      "execution_count": null,
      "outputs": [
        {
          "execution_count": 6,
          "output_type": "execute_result",
          "data": {
            "text/plain": "review       0\nsentiment    0\ndtype: int64"
          },
          "metadata": {}
        }
      ]
    },
    {
      "cell_type": "code",
      "source": [
        "data.describe()"
      ],
      "metadata": {
        "id": "x5015AXvzhhL",
        "outputId": "2a97bf7a-7816-45ac-bdb2-63274de0bfb8",
        "execution": {
          "iopub.status.busy": "2022-01-28T14:35:10.496018Z",
          "iopub.execute_input": "2022-01-28T14:35:10.496858Z",
          "iopub.status.idle": "2022-01-28T14:35:10.608689Z",
          "shell.execute_reply.started": "2022-01-28T14:35:10.496815Z",
          "shell.execute_reply": "2022-01-28T14:35:10.607537Z"
        },
        "trusted": true
      },
      "execution_count": null,
      "outputs": [
        {
          "execution_count": 7,
          "output_type": "execute_result",
          "data": {
            "text/plain": "                                                   review sentiment\ncount                                               50000     50000\nunique                                              49582         2\ntop     Loved today's show!!! It was a variety and not...  positive\nfreq                                                    5     25000",
            "text/html": "<div>\n<style scoped>\n    .dataframe tbody tr th:only-of-type {\n        vertical-align: middle;\n    }\n\n    .dataframe tbody tr th {\n        vertical-align: top;\n    }\n\n    .dataframe thead th {\n        text-align: right;\n    }\n</style>\n<table border=\"1\" class=\"dataframe\">\n  <thead>\n    <tr style=\"text-align: right;\">\n      <th></th>\n      <th>review</th>\n      <th>sentiment</th>\n    </tr>\n  </thead>\n  <tbody>\n    <tr>\n      <th>count</th>\n      <td>50000</td>\n      <td>50000</td>\n    </tr>\n    <tr>\n      <th>unique</th>\n      <td>49582</td>\n      <td>2</td>\n    </tr>\n    <tr>\n      <th>top</th>\n      <td>Loved today's show!!! It was a variety and not...</td>\n      <td>positive</td>\n    </tr>\n    <tr>\n      <th>freq</th>\n      <td>5</td>\n      <td>25000</td>\n    </tr>\n  </tbody>\n</table>\n</div>"
          },
          "metadata": {}
        }
      ]
    },
    {
      "cell_type": "code",
      "source": [
        "data['sentiment'].value_counts()"
      ],
      "metadata": {
        "id": "3qyfTIVsznCR",
        "outputId": "b7426834-5583-40d6-b785-f92034704ce3",
        "execution": {
          "iopub.status.busy": "2022-01-28T14:35:10.610060Z",
          "iopub.execute_input": "2022-01-28T14:35:10.610346Z",
          "iopub.status.idle": "2022-01-28T14:35:10.621593Z",
          "shell.execute_reply.started": "2022-01-28T14:35:10.610310Z",
          "shell.execute_reply": "2022-01-28T14:35:10.620554Z"
        },
        "trusted": true
      },
      "execution_count": null,
      "outputs": [
        {
          "execution_count": 8,
          "output_type": "execute_result",
          "data": {
            "text/plain": "positive    25000\nnegative    25000\nName: sentiment, dtype: int64"
          },
          "metadata": {}
        }
      ]
    },
    {
      "cell_type": "code",
      "source": [
        "data.shape"
      ],
      "metadata": {
        "id": "UNx0gfdyz0t9",
        "outputId": "01f11b4e-9be0-45b1-c906-0928e19c3116",
        "execution": {
          "iopub.status.busy": "2022-01-28T14:35:10.623010Z",
          "iopub.execute_input": "2022-01-28T14:35:10.623363Z",
          "iopub.status.idle": "2022-01-28T14:35:10.634556Z",
          "shell.execute_reply.started": "2022-01-28T14:35:10.623321Z",
          "shell.execute_reply": "2022-01-28T14:35:10.633830Z"
        },
        "trusted": true
      },
      "execution_count": null,
      "outputs": [
        {
          "execution_count": 9,
          "output_type": "execute_result",
          "data": {
            "text/plain": "(50000, 2)"
          },
          "metadata": {}
        }
      ]
    },
    {
      "cell_type": "code",
      "source": [
        "import spacy\n",
        "import re,string,unicodedata\n",
        "from nltk.tokenize.toktok import ToktokTokenizer\n",
        "from nltk.stem import LancasterStemmer,WordNetLemmatizer\n",
        "from sklearn.linear_model import LogisticRegression,SGDClassifier\n",
        "from sklearn.naive_bayes import MultinomialNB\n",
        "from sklearn.svm import SVC\n",
        "from textblob import TextBlob\n",
        "from textblob import Word\n",
        "from sklearn.metrics import classification_report,confusion_matrix,accuracy_score\n",
        "from bs4 import BeautifulSoup\n"
      ],
      "metadata": {
        "id": "fzaq4DdC1mvJ",
        "execution": {
          "iopub.status.busy": "2022-01-28T14:35:10.637159Z",
          "iopub.execute_input": "2022-01-28T14:35:10.638129Z",
          "iopub.status.idle": "2022-01-28T14:35:14.846035Z",
          "shell.execute_reply.started": "2022-01-28T14:35:10.638088Z",
          "shell.execute_reply": "2022-01-28T14:35:14.845029Z"
        },
        "trusted": true
      },
      "execution_count": null,
      "outputs": []
    },
    {
      "cell_type": "code",
      "source": [
        "import nltk\n",
        "nltk.download('stopwords')"
      ],
      "metadata": {
        "id": "iWo8JHXV3Fhg",
        "outputId": "05b668d3-1274-41f8-be54-5b762a272605",
        "execution": {
          "iopub.status.busy": "2022-01-28T14:35:14.847361Z",
          "iopub.execute_input": "2022-01-28T14:35:14.847597Z",
          "iopub.status.idle": "2022-01-28T14:35:15.117514Z",
          "shell.execute_reply.started": "2022-01-28T14:35:14.847569Z",
          "shell.execute_reply": "2022-01-28T14:35:15.116592Z"
        },
        "trusted": true
      },
      "execution_count": null,
      "outputs": [
        {
          "name": "stdout",
          "text": "[nltk_data] Downloading package stopwords to /usr/share/nltk_data...\n[nltk_data]   Package stopwords is already up-to-date!\n",
          "output_type": "stream"
        },
        {
          "execution_count": 11,
          "output_type": "execute_result",
          "data": {
            "text/plain": "True"
          },
          "metadata": {}
        }
      ]
    },
    {
      "cell_type": "code",
      "source": [
        "#Tokenization of text\n",
        "tokenizers=ToktokTokenizer()\n",
        "#Setting English stopwords\n",
        "stopwords=nltk.corpus.stopwords.words('english')"
      ],
      "metadata": {
        "id": "3mschY5u1qeW",
        "execution": {
          "iopub.status.busy": "2022-01-28T14:35:15.118818Z",
          "iopub.execute_input": "2022-01-28T14:35:15.119043Z",
          "iopub.status.idle": "2022-01-28T14:35:15.125407Z",
          "shell.execute_reply.started": "2022-01-28T14:35:15.119015Z",
          "shell.execute_reply": "2022-01-28T14:35:15.124585Z"
        },
        "trusted": true
      },
      "execution_count": null,
      "outputs": []
    },
    {
      "cell_type": "code",
      "source": [
        "#Removing the noisy text\n",
        "def noiseremoval_text(text):\n",
        "  soup = BeautifulSoup(text, \"html.parser\")\n",
        "  text = soup.get_text()\n",
        "  text = re.sub('\\[[^]]*\\]', '', text)\n",
        "  return text\n"
      ],
      "metadata": {
        "id": "vAQgpkNls3ol",
        "execution": {
          "iopub.status.busy": "2022-01-28T14:35:15.126945Z",
          "iopub.execute_input": "2022-01-28T14:35:15.127490Z",
          "iopub.status.idle": "2022-01-28T14:35:15.139278Z",
          "shell.execute_reply.started": "2022-01-28T14:35:15.127456Z",
          "shell.execute_reply": "2022-01-28T14:35:15.138575Z"
        },
        "trusted": true
      },
      "execution_count": null,
      "outputs": []
    },
    {
      "cell_type": "code",
      "source": [
        "#Apply function on review column\n",
        "data['review']=data['review'].apply(noiseremoval_text)"
      ],
      "metadata": {
        "id": "ZmRHbHz97oQh",
        "execution": {
          "iopub.status.busy": "2022-01-28T14:35:15.140667Z",
          "iopub.execute_input": "2022-01-28T14:35:15.141169Z",
          "iopub.status.idle": "2022-01-28T14:35:23.705039Z",
          "shell.execute_reply.started": "2022-01-28T14:35:15.141124Z",
          "shell.execute_reply": "2022-01-28T14:35:23.704106Z"
        },
        "trusted": true
      },
      "execution_count": null,
      "outputs": []
    },
    {
      "cell_type": "code",
      "source": [
        "data.head()"
      ],
      "metadata": {
        "id": "45QbIgD_7reR",
        "outputId": "b843c171-dcde-4a2c-b2d1-e7ed1a41bd7e",
        "execution": {
          "iopub.status.busy": "2022-01-28T14:35:23.707578Z",
          "iopub.execute_input": "2022-01-28T14:35:23.707841Z",
          "iopub.status.idle": "2022-01-28T14:35:23.718410Z",
          "shell.execute_reply.started": "2022-01-28T14:35:23.707809Z",
          "shell.execute_reply": "2022-01-28T14:35:23.717383Z"
        },
        "trusted": true
      },
      "execution_count": null,
      "outputs": [
        {
          "execution_count": 15,
          "output_type": "execute_result",
          "data": {
            "text/plain": "                                              review sentiment\n0  One of the other reviewers has mentioned that ...  positive\n1  A wonderful little production. The filming tec...  positive\n2  I thought this was a wonderful way to spend ti...  positive\n3  Basically there's a family where a little boy ...  negative\n4  Petter Mattei's \"Love in the Time of Money\" is...  positive",
            "text/html": "<div>\n<style scoped>\n    .dataframe tbody tr th:only-of-type {\n        vertical-align: middle;\n    }\n\n    .dataframe tbody tr th {\n        vertical-align: top;\n    }\n\n    .dataframe thead th {\n        text-align: right;\n    }\n</style>\n<table border=\"1\" class=\"dataframe\">\n  <thead>\n    <tr style=\"text-align: right;\">\n      <th></th>\n      <th>review</th>\n      <th>sentiment</th>\n    </tr>\n  </thead>\n  <tbody>\n    <tr>\n      <th>0</th>\n      <td>One of the other reviewers has mentioned that ...</td>\n      <td>positive</td>\n    </tr>\n    <tr>\n      <th>1</th>\n      <td>A wonderful little production. The filming tec...</td>\n      <td>positive</td>\n    </tr>\n    <tr>\n      <th>2</th>\n      <td>I thought this was a wonderful way to spend ti...</td>\n      <td>positive</td>\n    </tr>\n    <tr>\n      <th>3</th>\n      <td>Basically there's a family where a little boy ...</td>\n      <td>negative</td>\n    </tr>\n    <tr>\n      <th>4</th>\n      <td>Petter Mattei's \"Love in the Time of Money\" is...</td>\n      <td>positive</td>\n    </tr>\n  </tbody>\n</table>\n</div>"
          },
          "metadata": {}
        }
      ]
    },
    {
      "cell_type": "code",
      "source": [
        "#Stemming the text\n",
        "def stemmer(text):\n",
        "    ps=nltk.porter.PorterStemmer()\n",
        "    text= ' '.join([ps.stem(word) for word in text.split()])\n",
        "    return text\n"
      ],
      "metadata": {
        "id": "m_p_UX2Z8VuA",
        "execution": {
          "iopub.status.busy": "2022-01-28T14:35:23.719905Z",
          "iopub.execute_input": "2022-01-28T14:35:23.720155Z",
          "iopub.status.idle": "2022-01-28T14:35:23.725965Z",
          "shell.execute_reply.started": "2022-01-28T14:35:23.720128Z",
          "shell.execute_reply": "2022-01-28T14:35:23.725243Z"
        },
        "trusted": true
      },
      "execution_count": null,
      "outputs": []
    },
    {
      "cell_type": "code",
      "source": [
        "#Apply function on review column\n",
        "data['review']=data['review'].apply(stemmer)"
      ],
      "metadata": {
        "id": "iRLXDoHPupAm",
        "execution": {
          "iopub.status.busy": "2022-01-28T14:35:23.727098Z",
          "iopub.execute_input": "2022-01-28T14:35:23.727817Z",
          "iopub.status.idle": "2022-01-28T14:38:20.743786Z",
          "shell.execute_reply.started": "2022-01-28T14:35:23.727778Z",
          "shell.execute_reply": "2022-01-28T14:38:20.742691Z"
        },
        "trusted": true
      },
      "execution_count": null,
      "outputs": []
    },
    {
      "cell_type": "code",
      "source": [
        "data.head()"
      ],
      "metadata": {
        "id": "prrKKmx7up9A",
        "outputId": "6942c61c-7e38-4c1a-829f-7fd9d3ed4a65",
        "execution": {
          "iopub.status.busy": "2022-01-28T14:38:20.745757Z",
          "iopub.execute_input": "2022-01-28T14:38:20.746033Z",
          "iopub.status.idle": "2022-01-28T14:38:20.756206Z",
          "shell.execute_reply.started": "2022-01-28T14:38:20.746002Z",
          "shell.execute_reply": "2022-01-28T14:38:20.755257Z"
        },
        "trusted": true
      },
      "execution_count": null,
      "outputs": [
        {
          "execution_count": 18,
          "output_type": "execute_result",
          "data": {
            "text/plain": "                                              review sentiment\n0  one of the other review ha mention that after ...  positive\n1  A wonder littl production. the film techniqu i...  positive\n2  I thought thi wa a wonder way to spend time on...  positive\n3  basic there' a famili where a littl boy (jake)...  negative\n4  petter mattei' \"love in the time of money\" is ...  positive",
            "text/html": "<div>\n<style scoped>\n    .dataframe tbody tr th:only-of-type {\n        vertical-align: middle;\n    }\n\n    .dataframe tbody tr th {\n        vertical-align: top;\n    }\n\n    .dataframe thead th {\n        text-align: right;\n    }\n</style>\n<table border=\"1\" class=\"dataframe\">\n  <thead>\n    <tr style=\"text-align: right;\">\n      <th></th>\n      <th>review</th>\n      <th>sentiment</th>\n    </tr>\n  </thead>\n  <tbody>\n    <tr>\n      <th>0</th>\n      <td>one of the other review ha mention that after ...</td>\n      <td>positive</td>\n    </tr>\n    <tr>\n      <th>1</th>\n      <td>A wonder littl production. the film techniqu i...</td>\n      <td>positive</td>\n    </tr>\n    <tr>\n      <th>2</th>\n      <td>I thought thi wa a wonder way to spend time on...</td>\n      <td>positive</td>\n    </tr>\n    <tr>\n      <th>3</th>\n      <td>basic there' a famili where a littl boy (jake)...</td>\n      <td>negative</td>\n    </tr>\n    <tr>\n      <th>4</th>\n      <td>petter mattei' \"love in the time of money\" is ...</td>\n      <td>positive</td>\n    </tr>\n  </tbody>\n</table>\n</div>"
          },
          "metadata": {}
        }
      ]
    },
    {
      "cell_type": "code",
      "source": [
        "data.shape"
      ],
      "metadata": {
        "execution": {
          "iopub.status.busy": "2022-01-28T14:38:20.757371Z",
          "iopub.execute_input": "2022-01-28T14:38:20.757606Z",
          "iopub.status.idle": "2022-01-28T14:38:20.770125Z",
          "shell.execute_reply.started": "2022-01-28T14:38:20.757579Z",
          "shell.execute_reply": "2022-01-28T14:38:20.769487Z"
        },
        "trusted": true,
        "id": "AGI0F1m9-ixi",
        "outputId": "34ad49ca-227a-4eb1-e782-9d3556e0f4d3"
      },
      "execution_count": null,
      "outputs": [
        {
          "execution_count": 19,
          "output_type": "execute_result",
          "data": {
            "text/plain": "(50000, 2)"
          },
          "metadata": {}
        }
      ]
    },
    {
      "cell_type": "code",
      "source": [
        "from nltk.corpus import stopwords  \n",
        "from nltk.tokenize import word_tokenize  \n"
      ],
      "metadata": {
        "id": "wl5Kat8T-Ob7",
        "execution": {
          "iopub.status.busy": "2022-01-28T14:38:20.771521Z",
          "iopub.execute_input": "2022-01-28T14:38:20.771954Z",
          "iopub.status.idle": "2022-01-28T14:38:20.780916Z",
          "shell.execute_reply.started": "2022-01-28T14:38:20.771912Z",
          "shell.execute_reply": "2022-01-28T14:38:20.780166Z"
        },
        "trusted": true
      },
      "execution_count": null,
      "outputs": []
    },
    {
      "cell_type": "code",
      "source": [
        "#set stopwords to english\n",
        "\n",
        "stop_wr=set(stopwords.words('english'))\n",
        "print(stop_wr)"
      ],
      "metadata": {
        "id": "2s9292VJ81Xb",
        "outputId": "a154e892-6467-43b0-fb88-7f8282355a2a",
        "execution": {
          "iopub.status.busy": "2022-01-28T14:38:20.782403Z",
          "iopub.execute_input": "2022-01-28T14:38:20.782641Z",
          "iopub.status.idle": "2022-01-28T14:38:20.795779Z",
          "shell.execute_reply.started": "2022-01-28T14:38:20.782615Z",
          "shell.execute_reply": "2022-01-28T14:38:20.794787Z"
        },
        "trusted": true
      },
      "execution_count": null,
      "outputs": [
        {
          "name": "stdout",
          "text": "{'more', 'm', 'hers', 'doesn', 'ourselves', \"you've\", 'a', 'were', 'what', 'you', 'her', \"you'll\", 'from', 'both', 'don', 'very', \"shan't\", 'himself', 'down', 'hadn', 'so', 'he', 'before', \"haven't\", 'can', \"you're\", 'as', 'once', 'd', 'couldn', 'mightn', 'no', \"that'll\", 'do', 'why', 'too', 'off', 'ma', 'which', \"weren't\", 'with', 'will', \"don't\", 'theirs', 'because', 'mustn', 'wasn', 'while', 'them', 'for', 'when', 'having', 'in', 'herself', 'hasn', 'needn', 'won', \"won't\", 'haven', 'their', 'll', 'after', \"doesn't\", 'most', 'other', 'then', 'of', \"mustn't\", 'whom', 'to', 't', \"hasn't\", 'or', \"it's\", 'your', 'this', 'him', 'weren', 'shan', 'did', \"didn't\", 'same', 'we', 'is', 'where', 'now', 've', 'y', \"isn't\", \"shouldn't\", 'any', 'me', 'these', 'below', \"mightn't\", 'nor', 'yours', 'am', 'isn', 'his', 'it', 's', 're', 'its', 'there', 'how', 'does', 'o', 'the', 'yourself', 'again', \"aren't\", 'such', 'should', 'an', 'over', 'all', 'if', 'own', 'themselves', 'she', 'being', 'ain', 'itself', 'but', 'against', \"couldn't\", 'on', \"should've\", 'just', 'some', \"needn't\", 'been', 'until', \"wasn't\", 'only', 'up', 'at', 'each', 'through', 'myself', 'has', 'further', 'they', 'and', \"hadn't\", 'aren', \"she's\", \"you'd\", 'above', 'my', 'yourselves', 'by', 'doing', 'i', 'are', 'ours', \"wouldn't\", 'who', 'had', 'have', 'that', 'few', 'not', 'those', 'than', 'shouldn', 'wouldn', 'about', 'be', 'was', 'here', 'during', 'didn', 'into', 'under', 'between', 'out', 'our'}\n",
          "output_type": "stream"
        }
      ]
    },
    {
      "cell_type": "code",
      "source": [
        "#removing the stopwords\n",
        "def removing_stopwords(text, is_lower_case=False):\n",
        "    #Tokenization of text\n",
        "    tokenizers=ToktokTokenizer()\n",
        "    #Setting English stopwords\n",
        "    tokens = tokenizers.tokenize(text)\n",
        "    tokens = [token.strip() for token in tokens]\n",
        "    if is_lower_case:\n",
        "        filter_tokens = [token for token in tokens if token not in stop_wr]\n",
        "    else:\n",
        "        filter_tokens = [token for token in tokens if token.lower() not in stop_wr]\n",
        "    filtered_text = ' '.join(filter_tokens)    \n",
        "    return filtered_text\n"
      ],
      "metadata": {
        "id": "rk848WWE9jN4",
        "execution": {
          "iopub.status.busy": "2022-01-28T14:38:20.799170Z",
          "iopub.execute_input": "2022-01-28T14:38:20.799481Z",
          "iopub.status.idle": "2022-01-28T14:38:20.807845Z",
          "shell.execute_reply.started": "2022-01-28T14:38:20.799450Z",
          "shell.execute_reply": "2022-01-28T14:38:20.806976Z"
        },
        "trusted": true
      },
      "execution_count": null,
      "outputs": []
    },
    {
      "cell_type": "code",
      "source": [
        "#Apply function on review column\n",
        "data['review']=data['review'].apply(removing_stopwords)"
      ],
      "metadata": {
        "id": "0ClYfEZDvTH8",
        "execution": {
          "iopub.status.busy": "2022-01-28T14:38:20.809122Z",
          "iopub.execute_input": "2022-01-28T14:38:20.809508Z",
          "iopub.status.idle": "2022-01-28T14:38:40.048890Z",
          "shell.execute_reply.started": "2022-01-28T14:38:20.809466Z",
          "shell.execute_reply": "2022-01-28T14:38:40.048252Z"
        },
        "trusted": true
      },
      "execution_count": null,
      "outputs": []
    },
    {
      "cell_type": "code",
      "source": [
        "data.head()"
      ],
      "metadata": {
        "id": "kEzyu44xvWVQ",
        "outputId": "b16e2598-59ea-4b01-a066-5c5e3be178d4",
        "execution": {
          "iopub.status.busy": "2022-01-28T14:38:40.050876Z",
          "iopub.execute_input": "2022-01-28T14:38:40.051124Z",
          "iopub.status.idle": "2022-01-28T14:38:40.060982Z",
          "shell.execute_reply.started": "2022-01-28T14:38:40.051094Z",
          "shell.execute_reply": "2022-01-28T14:38:40.060060Z"
        },
        "trusted": true
      },
      "execution_count": null,
      "outputs": [
        {
          "execution_count": 24,
          "output_type": "execute_result",
          "data": {
            "text/plain": "                                              review sentiment\n0  one review ha mention watch 1 Oz episod ' hook...  positive\n1  wonder littl production. film techniqu veri un...  positive\n2  thought thi wa wonder way spend time hot summe...  positive\n3  basic ' famili littl boy ( jake ) think ' zomb...  negative\n4  petter mattei ' \" love time money \" visual stu...  positive",
            "text/html": "<div>\n<style scoped>\n    .dataframe tbody tr th:only-of-type {\n        vertical-align: middle;\n    }\n\n    .dataframe tbody tr th {\n        vertical-align: top;\n    }\n\n    .dataframe thead th {\n        text-align: right;\n    }\n</style>\n<table border=\"1\" class=\"dataframe\">\n  <thead>\n    <tr style=\"text-align: right;\">\n      <th></th>\n      <th>review</th>\n      <th>sentiment</th>\n    </tr>\n  </thead>\n  <tbody>\n    <tr>\n      <th>0</th>\n      <td>one review ha mention watch 1 Oz episod ' hook...</td>\n      <td>positive</td>\n    </tr>\n    <tr>\n      <th>1</th>\n      <td>wonder littl production. film techniqu veri un...</td>\n      <td>positive</td>\n    </tr>\n    <tr>\n      <th>2</th>\n      <td>thought thi wa wonder way spend time hot summe...</td>\n      <td>positive</td>\n    </tr>\n    <tr>\n      <th>3</th>\n      <td>basic ' famili littl boy ( jake ) think ' zomb...</td>\n      <td>negative</td>\n    </tr>\n    <tr>\n      <th>4</th>\n      <td>petter mattei ' \" love time money \" visual stu...</td>\n      <td>positive</td>\n    </tr>\n  </tbody>\n</table>\n</div>"
          },
          "metadata": {}
        }
      ]
    },
    {
      "cell_type": "markdown",
      "source": [
        "## Train test split"
      ],
      "metadata": {
        "id": "qP5EuJo3Ab9q"
      }
    },
    {
      "cell_type": "code",
      "source": [
        "#split the dataset  \n",
        "#train dataset\n",
        "train_reviews_data=data.review[:30000]\n"
      ],
      "metadata": {
        "id": "ou7X5y-bz4Zl",
        "execution": {
          "iopub.status.busy": "2022-01-28T14:38:40.062212Z",
          "iopub.execute_input": "2022-01-28T14:38:40.062445Z",
          "iopub.status.idle": "2022-01-28T14:38:40.070112Z",
          "shell.execute_reply.started": "2022-01-28T14:38:40.062408Z",
          "shell.execute_reply": "2022-01-28T14:38:40.069513Z"
        },
        "trusted": true
      },
      "execution_count": null,
      "outputs": []
    },
    {
      "cell_type": "code",
      "source": [
        "#test dataset\n",
        "\n",
        "test_reviews_data=data.review[30000:]\n"
      ],
      "metadata": {
        "id": "08kljHSc0aX_",
        "execution": {
          "iopub.status.busy": "2022-01-28T14:38:40.071597Z",
          "iopub.execute_input": "2022-01-28T14:38:40.072083Z",
          "iopub.status.idle": "2022-01-28T14:38:40.080880Z",
          "shell.execute_reply.started": "2022-01-28T14:38:40.072040Z",
          "shell.execute_reply": "2022-01-28T14:38:40.080299Z"
        },
        "trusted": true
      },
      "execution_count": null,
      "outputs": []
    },
    {
      "cell_type": "markdown",
      "source": [
        "## Bag of words"
      ],
      "metadata": {
        "id": "2sAh7UTOt_3K"
      }
    },
    {
      "cell_type": "code",
      "source": [
        "#Count vectorizer for bag of words\n",
        "cv=CountVectorizer(min_df=0,max_df=1,binary=False,ngram_range=(1,3))\n",
        "#transformed train reviews\n",
        "cv_train=cv.fit_transform(train_reviews_data)\n",
        "#transformed test reviews\n",
        "cv_test=cv.transform(test_reviews_data)\n",
        "\n",
        "print('BOW_cv_train:',cv_train.shape)\n",
        "print('BOW_cv_test:',cv_test.shape)\n",
        "#vocab=cv.get_feature_names()-toget feature names"
      ],
      "metadata": {
        "id": "OFj-Ncl99udA",
        "outputId": "74a47554-0f70-41ba-e160-7204d5fbba17",
        "execution": {
          "iopub.status.busy": "2022-01-28T14:38:40.082196Z",
          "iopub.execute_input": "2022-01-28T14:38:40.082651Z",
          "iopub.status.idle": "2022-01-28T14:39:33.459048Z",
          "shell.execute_reply.started": "2022-01-28T14:38:40.082611Z",
          "shell.execute_reply": "2022-01-28T14:39:33.457996Z"
        },
        "trusted": true
      },
      "execution_count": null,
      "outputs": [
        {
          "name": "stdout",
          "text": "BOW_cv_train: (30000, 4954557)\nBOW_cv_test: (20000, 4954557)\n",
          "output_type": "stream"
        }
      ]
    },
    {
      "cell_type": "markdown",
      "source": [
        "## TF_IDF"
      ],
      "metadata": {
        "id": "JBdt4-46uHEY"
      }
    },
    {
      "cell_type": "code",
      "source": [
        "#Tfidf vectorizer\n",
        "tf=TfidfVectorizer(min_df=0,max_df=1,use_idf=True,ngram_range=(1,3))\n",
        "#transformed train reviews\n",
        "tf_train=tf.fit_transform(train_reviews_data)\n",
        "#transformed test reviews\n",
        "tf_test=tf.transform(test_reviews_data)\n",
        "print('Tfidf_train:',tf_train.shape)\n",
        "print('Tfidf_test:',tf_test.shape)"
      ],
      "metadata": {
        "id": "BT-4lfBaAw9J",
        "outputId": "fec3737c-ff6c-4e9b-d4c4-5bdb0a968e26",
        "execution": {
          "iopub.status.busy": "2022-01-28T14:39:33.463752Z",
          "iopub.execute_input": "2022-01-28T14:39:33.464053Z",
          "iopub.status.idle": "2022-01-28T14:40:26.569933Z",
          "shell.execute_reply.started": "2022-01-28T14:39:33.464023Z",
          "shell.execute_reply": "2022-01-28T14:40:26.569125Z"
        },
        "trusted": true
      },
      "execution_count": null,
      "outputs": [
        {
          "name": "stdout",
          "text": "Tfidf_train: (30000, 4954557)\nTfidf_test: (20000, 4954557)\n",
          "output_type": "stream"
        }
      ]
    },
    {
      "cell_type": "markdown",
      "source": [
        "## Lable encoding"
      ],
      "metadata": {
        "id": "VsoL02wKuVNQ"
      }
    },
    {
      "cell_type": "code",
      "source": [
        "#labeling the sentient data\n",
        "label=LabelBinarizer()\n",
        "#transformed sentiment data\n",
        "sentiment_data=label.fit_transform(data['sentiment'])\n",
        "print(sentiment_data.shape)"
      ],
      "metadata": {
        "id": "MxhIF1q7Cla8",
        "outputId": "207ec18a-9493-4de3-8b1d-64e7cdb36141",
        "execution": {
          "iopub.status.busy": "2022-01-28T14:40:26.571773Z",
          "iopub.execute_input": "2022-01-28T14:40:26.572025Z",
          "iopub.status.idle": "2022-01-28T14:40:26.712806Z",
          "shell.execute_reply.started": "2022-01-28T14:40:26.571994Z",
          "shell.execute_reply": "2022-01-28T14:40:26.711692Z"
        },
        "trusted": true
      },
      "execution_count": null,
      "outputs": [
        {
          "name": "stdout",
          "text": "(50000, 1)\n",
          "output_type": "stream"
        }
      ]
    },
    {
      "cell_type": "code",
      "source": [
        "train_data=data.sentiment[:30000]\n"
      ],
      "metadata": {
        "id": "DC2p5nDTEB99",
        "execution": {
          "iopub.status.busy": "2022-01-28T14:40:26.714447Z",
          "iopub.execute_input": "2022-01-28T14:40:26.714764Z",
          "iopub.status.idle": "2022-01-28T14:40:26.719873Z",
          "shell.execute_reply.started": "2022-01-28T14:40:26.714720Z",
          "shell.execute_reply": "2022-01-28T14:40:26.719071Z"
        },
        "trusted": true
      },
      "execution_count": null,
      "outputs": []
    },
    {
      "cell_type": "code",
      "source": [
        "test_data=data.sentiment[30000:]\n"
      ],
      "metadata": {
        "id": "Tj1gRrJ5EI_u",
        "execution": {
          "iopub.status.busy": "2022-01-28T14:40:26.722256Z",
          "iopub.execute_input": "2022-01-28T14:40:26.723100Z",
          "iopub.status.idle": "2022-01-28T14:40:26.734313Z",
          "shell.execute_reply.started": "2022-01-28T14:40:26.723063Z",
          "shell.execute_reply": "2022-01-28T14:40:26.733388Z"
        },
        "trusted": true
      },
      "execution_count": null,
      "outputs": []
    },
    {
      "cell_type": "code",
      "source": [
        "#training the model\n",
        "logistic=LogisticRegression(penalty='l2',max_iter=500,C=1,random_state=42)\n",
        "#Fitting the model for Bag of words\n",
        "lr_bow=logistic.fit(cv_train,train_data)\n",
        "print(lr_bow)\n",
        "#Fitting the model for tfidf features\n",
        "lr_tfidf=logistic.fit(tf_train,train_data)\n",
        "print(lr_tfidf)"
      ],
      "metadata": {
        "id": "SbQWJwlfEJaZ",
        "outputId": "f3b8f971-5850-48cd-b33c-4671e65b533a",
        "execution": {
          "iopub.status.busy": "2022-01-28T14:40:26.735633Z",
          "iopub.execute_input": "2022-01-28T14:40:26.735881Z",
          "iopub.status.idle": "2022-01-28T14:41:51.020649Z",
          "shell.execute_reply.started": "2022-01-28T14:40:26.735851Z",
          "shell.execute_reply": "2022-01-28T14:41:51.019879Z"
        },
        "trusted": true
      },
      "execution_count": null,
      "outputs": [
        {
          "name": "stdout",
          "text": "LogisticRegression(C=1, max_iter=500, random_state=42)\nLogisticRegression(C=1, max_iter=500, random_state=42)\n",
          "output_type": "stream"
        }
      ]
    },
    {
      "cell_type": "code",
      "source": [
        "#Predicting the model for bag of words\n",
        "lr_bow_predict=logistic.predict(cv_test)\n",
        "print(lr_bow_predict)\n"
      ],
      "metadata": {
        "id": "5GEdjb3JE80n",
        "outputId": "d424d48a-1b44-4df9-dea3-3c46ec3f0b8c",
        "execution": {
          "iopub.status.busy": "2022-01-28T14:41:51.022038Z",
          "iopub.execute_input": "2022-01-28T14:41:51.022634Z",
          "iopub.status.idle": "2022-01-28T14:41:51.038588Z",
          "shell.execute_reply.started": "2022-01-28T14:41:51.022591Z",
          "shell.execute_reply": "2022-01-28T14:41:51.037481Z"
        },
        "trusted": true
      },
      "execution_count": null,
      "outputs": [
        {
          "name": "stdout",
          "text": "['negative' 'negative' 'negative' ... 'negative' 'positive' 'positive']\n",
          "output_type": "stream"
        }
      ]
    },
    {
      "cell_type": "code",
      "source": [
        "##Predicting the model for tfidf features\n",
        "lr_tfidf_predict=logistic.predict(tf_test)\n",
        "print(lr_tfidf_predict)"
      ],
      "metadata": {
        "id": "KVcuLLBdwuM_",
        "outputId": "c8a3af8b-e620-4096-b7b0-51267b57c463",
        "execution": {
          "iopub.status.busy": "2022-01-28T14:41:51.039987Z",
          "iopub.execute_input": "2022-01-28T14:41:51.040778Z",
          "iopub.status.idle": "2022-01-28T14:41:51.052887Z",
          "shell.execute_reply.started": "2022-01-28T14:41:51.040742Z",
          "shell.execute_reply": "2022-01-28T14:41:51.051917Z"
        },
        "trusted": true
      },
      "execution_count": null,
      "outputs": [
        {
          "name": "stdout",
          "text": "['negative' 'negative' 'negative' ... 'negative' 'positive' 'positive']\n",
          "output_type": "stream"
        }
      ]
    },
    {
      "cell_type": "code",
      "source": [
        "#Accuracy score for bag of words\n",
        "lr_bow_score=accuracy_score(test_data,lr_bow_predict)\n",
        "print(\"lr_bow_score :\",lr_bow_score)\n"
      ],
      "metadata": {
        "id": "e5dQjjRMEYwm",
        "outputId": "3b39124b-0114-4f8e-e7f1-0d7b7ae83b31",
        "execution": {
          "iopub.status.busy": "2022-01-28T14:41:51.054251Z",
          "iopub.execute_input": "2022-01-28T14:41:51.054795Z",
          "iopub.status.idle": "2022-01-28T14:41:51.123507Z",
          "shell.execute_reply.started": "2022-01-28T14:41:51.054759Z",
          "shell.execute_reply": "2022-01-28T14:41:51.122640Z"
        },
        "trusted": true
      },
      "execution_count": null,
      "outputs": [
        {
          "name": "stdout",
          "text": "lr_bow_score : 0.74255\n",
          "output_type": "stream"
        }
      ]
    },
    {
      "cell_type": "code",
      "source": [
        "#Accuracy score for tfidf features\n",
        "lr_tfidf_score=accuracy_score(test_data,lr_tfidf_predict)\n",
        "print(\"lr_tfidf_score :\",lr_tfidf_score)"
      ],
      "metadata": {
        "id": "6IfQGarBwwku",
        "outputId": "9509b32f-19c2-4206-ce1c-903d4bd8c583",
        "execution": {
          "iopub.status.busy": "2022-01-28T14:41:51.124680Z",
          "iopub.execute_input": "2022-01-28T14:41:51.124900Z",
          "iopub.status.idle": "2022-01-28T14:41:51.171997Z",
          "shell.execute_reply.started": "2022-01-28T14:41:51.124875Z",
          "shell.execute_reply": "2022-01-28T14:41:51.171079Z"
        },
        "trusted": true
      },
      "execution_count": null,
      "outputs": [
        {
          "name": "stdout",
          "text": "lr_tfidf_score : 0.7426\n",
          "output_type": "stream"
        }
      ]
    },
    {
      "cell_type": "code",
      "source": [
        ""
      ],
      "metadata": {
        "id": "CX_6s4W7ErCG"
      },
      "execution_count": null,
      "outputs": []
    }
  ]
}